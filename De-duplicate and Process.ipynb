{
 "cells": [
  {
   "cell_type": "code",
   "execution_count": 16,
   "metadata": {},
   "outputs": [],
   "source": [
    "import feather\n",
    "\n",
    "import pandas as pd\n",
    "from glob import glob"
   ]
  },
  {
   "cell_type": "code",
   "execution_count": 17,
   "metadata": {},
   "outputs": [],
   "source": [
    "def create_df(search_str):\n",
    "    return pd.concat([pd.read_json(file) for file in glob(search_str)]).drop_duplicates()"
   ]
  },
  {
   "cell_type": "code",
   "execution_count": 18,
   "metadata": {},
   "outputs": [],
   "source": [
    "beer_df = create_df('data/beer_info*.json')"
   ]
  },
  {
   "cell_type": "code",
   "execution_count": 19,
   "metadata": {},
   "outputs": [],
   "source": [
    "reviews_df = create_df('data/reviews*.json')"
   ]
  },
  {
   "cell_type": "code",
   "execution_count": 20,
   "metadata": {},
   "outputs": [
    {
     "name": "stdout",
     "output_type": "stream",
     "text": [
      "Beer count: 575\n",
      "Review count: 65435\n"
     ]
    }
   ],
   "source": [
    "print('Beer count:', len(beer_df))\n",
    "print('Review count:', len(reviews_df))"
   ]
  },
  {
   "cell_type": "code",
   "execution_count": 21,
   "metadata": {},
   "outputs": [],
   "source": [
    "beer_df.to_json('data-merged/beer-info.json', orient='records')\n",
    "reviews_df.to_json('data-merged/reviews.json', orient='records')"
   ]
  },
  {
   "cell_type": "code",
   "execution_count": 22,
   "metadata": {},
   "outputs": [
    {
     "data": {
      "text/html": [
       "<div>\n",
       "<style scoped>\n",
       "    .dataframe tbody tr th:only-of-type {\n",
       "        vertical-align: middle;\n",
       "    }\n",
       "\n",
       "    .dataframe tbody tr th {\n",
       "        vertical-align: top;\n",
       "    }\n",
       "\n",
       "    .dataframe thead th {\n",
       "        text-align: right;\n",
       "    }\n",
       "</style>\n",
       "<table border=\"1\" class=\"dataframe\">\n",
       "  <thead>\n",
       "    <tr style=\"text-align: right;\">\n",
       "      <th></th>\n",
       "      <th>abv</th>\n",
       "      <th>brewery</th>\n",
       "      <th>date</th>\n",
       "      <th>description</th>\n",
       "      <th>ibu</th>\n",
       "      <th>id</th>\n",
       "      <th>name</th>\n",
       "      <th>rating</th>\n",
       "      <th>style</th>\n",
       "      <th>num ratings</th>\n",
       "    </tr>\n",
       "  </thead>\n",
       "  <tbody>\n",
       "    <tr>\n",
       "      <th>0</th>\n",
       "      <td>9.99</td>\n",
       "      <td>Tanker Brewery</td>\n",
       "      <td>2015-11-05</td>\n",
       "      <td>Tanker and Mean Sardine Brewery from Portugal ...</td>\n",
       "      <td>90.0</td>\n",
       "      <td>1300529</td>\n",
       "      <td>Surf Wax DIPA</td>\n",
       "      <td>3.67</td>\n",
       "      <td>IPA - Imperial / Double</td>\n",
       "      <td>395</td>\n",
       "    </tr>\n",
       "    <tr>\n",
       "      <th>1</th>\n",
       "      <td>8.20</td>\n",
       "      <td>Brazos Valley Brewing</td>\n",
       "      <td>2015-08-01</td>\n",
       "      <td></td>\n",
       "      <td>85.0</td>\n",
       "      <td>1182200</td>\n",
       "      <td>MindFlayer DIPA</td>\n",
       "      <td>3.78</td>\n",
       "      <td>IPA - Imperial / Double</td>\n",
       "      <td>405</td>\n",
       "    </tr>\n",
       "  </tbody>\n",
       "</table>\n",
       "</div>"
      ],
      "text/plain": [
       "    abv                brewery       date  \\\n",
       "0  9.99         Tanker Brewery 2015-11-05   \n",
       "1  8.20  Brazos Valley Brewing 2015-08-01   \n",
       "\n",
       "                                         description   ibu       id  \\\n",
       "0  Tanker and Mean Sardine Brewery from Portugal ...  90.0  1300529   \n",
       "1                                                     85.0  1182200   \n",
       "\n",
       "              name  rating                    style  num ratings  \n",
       "0    Surf Wax DIPA    3.67  IPA - Imperial / Double          395  \n",
       "1  MindFlayer DIPA    3.78  IPA - Imperial / Double          405  "
      ]
     },
     "execution_count": 22,
     "metadata": {},
     "output_type": "execute_result"
    }
   ],
   "source": [
    "beer_df['abv'] = pd.to_numeric(beer_df['abv'].str.split('%').str[0].str.replace('No ABV', ''))\n",
    "beer_df['ibu'] = pd.to_numeric(beer_df['ibu'].str.split(' ').str[0].str.replace('No', ''))\n",
    "\n",
    "beer_df['rating'] = pd.to_numeric(beer_df['rating'].str.replace('(', '').str.replace(')', ''))\n",
    "\n",
    "beer_df['date'] = pd.to_datetime(beer_df['date'].str.split(' ').str[1])\n",
    "\n",
    "beer_df['num ratings'] = pd.to_numeric(beer_df['raters'].str.split(' ').str[0].str.replace(',', ''))\n",
    "del beer_df['raters']\n",
    "\n",
    "beer_df.head(2)"
   ]
  },
  {
   "cell_type": "code",
   "execution_count": 23,
   "metadata": {},
   "outputs": [],
   "source": [
    "reviews_df['user_id'] = reviews_df['user_id'].str.replace('https://untappd.com/user/', '')"
   ]
  },
  {
   "cell_type": "code",
   "execution_count": 24,
   "metadata": {},
   "outputs": [],
   "source": [
    "feather.write_dataframe(beer_df, 'data-merged/beer-info.feather')"
   ]
  },
  {
   "cell_type": "code",
   "execution_count": 25,
   "metadata": {},
   "outputs": [],
   "source": [
    "feather.write_dataframe(reviews_df, 'data-merged/reviews.feather')"
   ]
  },
  {
   "cell_type": "code",
   "execution_count": 26,
   "metadata": {},
   "outputs": [
    {
     "data": {
      "text/html": [
       "<div>\n",
       "<style scoped>\n",
       "    .dataframe tbody tr th:only-of-type {\n",
       "        vertical-align: middle;\n",
       "    }\n",
       "\n",
       "    .dataframe tbody tr th {\n",
       "        vertical-align: top;\n",
       "    }\n",
       "\n",
       "    .dataframe thead th {\n",
       "        text-align: right;\n",
       "    }\n",
       "</style>\n",
       "<table border=\"1\" class=\"dataframe\">\n",
       "  <thead>\n",
       "    <tr style=\"text-align: right;\">\n",
       "      <th></th>\n",
       "      <th>beer_id</th>\n",
       "      <th>comment</th>\n",
       "      <th>rating</th>\n",
       "      <th>user_id</th>\n",
       "    </tr>\n",
       "  </thead>\n",
       "  <tbody>\n",
       "    <tr>\n",
       "      <th>0</th>\n",
       "      <td>1300529</td>\n",
       "      <td>None</td>\n",
       "      <td>3.75</td>\n",
       "      <td>Vasen_pakki</td>\n",
       "    </tr>\n",
       "    <tr>\n",
       "      <th>1</th>\n",
       "      <td>1300529</td>\n",
       "      <td>None</td>\n",
       "      <td>3.50</td>\n",
       "      <td>Dave-Hill</td>\n",
       "    </tr>\n",
       "  </tbody>\n",
       "</table>\n",
       "</div>"
      ],
      "text/plain": [
       "   beer_id comment  rating      user_id\n",
       "0  1300529    None    3.75  Vasen_pakki\n",
       "1  1300529    None    3.50    Dave-Hill"
      ]
     },
     "execution_count": 26,
     "metadata": {},
     "output_type": "execute_result"
    }
   ],
   "source": [
    "reviews_df.head(2)"
   ]
  },
  {
   "cell_type": "code",
   "execution_count": 27,
   "metadata": {},
   "outputs": [
    {
     "name": "stdout",
     "output_type": "stream",
     "text": [
      "<class 'pandas.core.frame.DataFrame'>\n",
      "Int64Index: 65435 entries, 0 to 4362\n",
      "Data columns (total 4 columns):\n",
      "beer_id    65435 non-null int64\n",
      "comment    15917 non-null object\n",
      "rating     65169 non-null float64\n",
      "user_id    65435 non-null object\n",
      "dtypes: float64(1), int64(1), object(2)\n",
      "memory usage: 3.7+ MB\n"
     ]
    }
   ],
   "source": [
    "reviews_df.info()"
   ]
  },
  {
   "cell_type": "code",
   "execution_count": null,
   "metadata": {},
   "outputs": [],
   "source": []
  }
 ],
 "metadata": {
  "kernelspec": {
   "display_name": "Python 3",
   "language": "python",
   "name": "python3"
  },
  "language_info": {
   "codemirror_mode": {
    "name": "ipython",
    "version": 3
   },
   "file_extension": ".py",
   "mimetype": "text/x-python",
   "name": "python",
   "nbconvert_exporter": "python",
   "pygments_lexer": "ipython3",
   "version": "3.6.4"
  }
 },
 "nbformat": 4,
 "nbformat_minor": 2
}
