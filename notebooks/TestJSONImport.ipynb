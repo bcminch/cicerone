{
 "cells": [
  {
   "cell_type": "code",
   "execution_count": 1,
   "metadata": {},
   "outputs": [],
   "source": [
    "import pandas as pd\n",
    "import os"
   ]
  },
  {
   "cell_type": "code",
   "execution_count": 2,
   "metadata": {},
   "outputs": [
    {
     "name": "stdout",
     "output_type": "stream",
     "text": [
      " Volume in drive C has no label.\n",
      " Volume Serial Number is CA8D-A166\n",
      "\n",
      " Directory of C:\\Users\\Brian\\Documents\\Python\\cicerone\\notebooks\n",
      "\n"
     ]
    },
    {
     "name": "stderr",
     "output_type": "stream",
     "text": [
      "File Not Found\n"
     ]
    }
   ],
   "source": [
    "#os.chdir('C:/Users/Brian/Documents/Python/cicerone')\n",
    "!dir('data')"
   ]
  },
  {
   "cell_type": "code",
   "execution_count": 3,
   "metadata": {},
   "outputs": [
    {
     "data": {
      "text/html": [
       "<div>\n",
       "<style scoped>\n",
       "    .dataframe tbody tr th:only-of-type {\n",
       "        vertical-align: middle;\n",
       "    }\n",
       "\n",
       "    .dataframe tbody tr th {\n",
       "        vertical-align: top;\n",
       "    }\n",
       "\n",
       "    .dataframe thead th {\n",
       "        text-align: right;\n",
       "    }\n",
       "</style>\n",
       "<table border=\"1\" class=\"dataframe\">\n",
       "  <thead>\n",
       "    <tr style=\"text-align: right;\">\n",
       "      <th></th>\n",
       "      <th>beer_id</th>\n",
       "      <th>rating</th>\n",
       "      <th>user_id</th>\n",
       "    </tr>\n",
       "  </thead>\n",
       "  <tbody>\n",
       "    <tr>\n",
       "      <th>0</th>\n",
       "      <td>4509</td>\n",
       "      <td>4.25</td>\n",
       "      <td>https://untappd.com/user/alexialeo</td>\n",
       "    </tr>\n",
       "    <tr>\n",
       "      <th>1</th>\n",
       "      <td>4509</td>\n",
       "      <td>4.25</td>\n",
       "      <td>https://untappd.com/user/Joemelton</td>\n",
       "    </tr>\n",
       "    <tr>\n",
       "      <th>2</th>\n",
       "      <td>4509</td>\n",
       "      <td>3.25</td>\n",
       "      <td>https://untappd.com/user/jivatma</td>\n",
       "    </tr>\n",
       "    <tr>\n",
       "      <th>3</th>\n",
       "      <td>4509</td>\n",
       "      <td>3.75</td>\n",
       "      <td>https://untappd.com/user/mellikgorton</td>\n",
       "    </tr>\n",
       "    <tr>\n",
       "      <th>4</th>\n",
       "      <td>4509</td>\n",
       "      <td>4.00</td>\n",
       "      <td>https://untappd.com/user/jhillman</td>\n",
       "    </tr>\n",
       "  </tbody>\n",
       "</table>\n",
       "</div>"
      ],
      "text/plain": [
       "   beer_id  rating                                user_id\n",
       "0     4509    4.25     https://untappd.com/user/alexialeo\n",
       "1     4509    4.25     https://untappd.com/user/Joemelton\n",
       "2     4509    3.25       https://untappd.com/user/jivatma\n",
       "3     4509    3.75  https://untappd.com/user/mellikgorton\n",
       "4     4509    4.00      https://untappd.com/user/jhillman"
      ]
     },
     "execution_count": 3,
     "metadata": {},
     "output_type": "execute_result"
    }
   ],
   "source": [
    "reviews = pd.read_json('../data/reviews.json', orient='records')\n",
    "reviews.head()"
   ]
  },
  {
   "cell_type": "code",
   "execution_count": 4,
   "metadata": {},
   "outputs": [
    {
     "data": {
      "text/html": [
       "<div>\n",
       "<style scoped>\n",
       "    .dataframe tbody tr th:only-of-type {\n",
       "        vertical-align: middle;\n",
       "    }\n",
       "\n",
       "    .dataframe tbody tr th {\n",
       "        vertical-align: top;\n",
       "    }\n",
       "\n",
       "    .dataframe thead th {\n",
       "        text-align: right;\n",
       "    }\n",
       "</style>\n",
       "<table border=\"1\" class=\"dataframe\">\n",
       "  <thead>\n",
       "    <tr style=\"text-align: right;\">\n",
       "      <th></th>\n",
       "      <th>abv</th>\n",
       "      <th>brewery</th>\n",
       "      <th>date</th>\n",
       "      <th>description</th>\n",
       "      <th>ibu</th>\n",
       "      <th>id</th>\n",
       "      <th>name</th>\n",
       "      <th>raters</th>\n",
       "      <th>rating</th>\n",
       "      <th>style</th>\n",
       "    </tr>\n",
       "  </thead>\n",
       "  <tbody>\n",
       "    <tr>\n",
       "      <th>0</th>\n",
       "      <td>6.2% ABV</td>\n",
       "      <td>Lagunitas Brewing Company</td>\n",
       "      <td>Added 08/21/10</td>\n",
       "      <td>This is our unique version of an ancient style...</td>\n",
       "      <td>46 IBU</td>\n",
       "      <td>4509</td>\n",
       "      <td>IPA\\nLagunitas Brewing Company\\nIPA - American</td>\n",
       "      <td>497,006 Ratings</td>\n",
       "      <td>(3.77)</td>\n",
       "      <td>IPA - American</td>\n",
       "    </tr>\n",
       "    <tr>\n",
       "      <th>1</th>\n",
       "      <td>7% ABV</td>\n",
       "      <td>Bell's Brewery</td>\n",
       "      <td>Added 08/21/10</td>\n",
       "      <td>Brewed with 100% Centennial hops from the Paci...</td>\n",
       "      <td>No IBU</td>\n",
       "      <td>4133</td>\n",
       "      <td>Two Hearted Ale\\nBell's Brewery\\nIPA - American</td>\n",
       "      <td>418,675 Ratings</td>\n",
       "      <td>(3.97)</td>\n",
       "      <td>IPA - American</td>\n",
       "    </tr>\n",
       "    <tr>\n",
       "      <th>2</th>\n",
       "      <td>4.7% ABV</td>\n",
       "      <td>Founders Brewing Co.</td>\n",
       "      <td>Added 03/12/11</td>\n",
       "      <td>Satisfies your tastes while keeping your sense...</td>\n",
       "      <td>42 IBU</td>\n",
       "      <td>36834</td>\n",
       "      <td>All Day IPA\\nFounders Brewing Co.\\nIPA - Sessi...</td>\n",
       "      <td>407,306 Ratings</td>\n",
       "      <td>(3.74)</td>\n",
       "      <td>IPA - Session / India Session Ale</td>\n",
       "    </tr>\n",
       "    <tr>\n",
       "      <th>3</th>\n",
       "      <td>5.9% ABV</td>\n",
       "      <td>Goose Island Beer Co.</td>\n",
       "      <td>Added 08/21/10</td>\n",
       "      <td>Our India Pale Ale recalls a time when ales sh...</td>\n",
       "      <td>55 IBU</td>\n",
       "      <td>1353</td>\n",
       "      <td>Goose IPA\\nGoose Island Beer Co.\\nIPA - English</td>\n",
       "      <td>443,590 Ratings</td>\n",
       "      <td>(3.53)</td>\n",
       "      <td>IPA - English</td>\n",
       "    </tr>\n",
       "    <tr>\n",
       "      <th>4</th>\n",
       "      <td>7% ABV</td>\n",
       "      <td>Ballast Point Brewing Company</td>\n",
       "      <td>Added 08/21/10</td>\n",
       "      <td>The Sculpin IPA is a testament to our humble b...</td>\n",
       "      <td>70 IBU</td>\n",
       "      <td>5558</td>\n",
       "      <td>Sculpin\\nBallast Point Brewing Company\\nIPA - ...</td>\n",
       "      <td>366,778 Ratings</td>\n",
       "      <td>(4)</td>\n",
       "      <td>IPA - American</td>\n",
       "    </tr>\n",
       "  </tbody>\n",
       "</table>\n",
       "</div>"
      ],
      "text/plain": [
       "        abv                        brewery            date  \\\n",
       "0  6.2% ABV      Lagunitas Brewing Company  Added 08/21/10   \n",
       "1    7% ABV                 Bell's Brewery  Added 08/21/10   \n",
       "2  4.7% ABV           Founders Brewing Co.  Added 03/12/11   \n",
       "3  5.9% ABV          Goose Island Beer Co.  Added 08/21/10   \n",
       "4    7% ABV  Ballast Point Brewing Company  Added 08/21/10   \n",
       "\n",
       "                                         description     ibu     id  \\\n",
       "0  This is our unique version of an ancient style...  46 IBU   4509   \n",
       "1  Brewed with 100% Centennial hops from the Paci...  No IBU   4133   \n",
       "2  Satisfies your tastes while keeping your sense...  42 IBU  36834   \n",
       "3  Our India Pale Ale recalls a time when ales sh...  55 IBU   1353   \n",
       "4  The Sculpin IPA is a testament to our humble b...  70 IBU   5558   \n",
       "\n",
       "                                                name           raters  rating  \\\n",
       "0     IPA\\nLagunitas Brewing Company\\nIPA - American  497,006 Ratings  (3.77)   \n",
       "1    Two Hearted Ale\\nBell's Brewery\\nIPA - American  418,675 Ratings  (3.97)   \n",
       "2  All Day IPA\\nFounders Brewing Co.\\nIPA - Sessi...  407,306 Ratings  (3.74)   \n",
       "3    Goose IPA\\nGoose Island Beer Co.\\nIPA - English  443,590 Ratings  (3.53)   \n",
       "4  Sculpin\\nBallast Point Brewing Company\\nIPA - ...  366,778 Ratings     (4)   \n",
       "\n",
       "                               style  \n",
       "0                     IPA - American  \n",
       "1                     IPA - American  \n",
       "2  IPA - Session / India Session Ale  \n",
       "3                      IPA - English  \n",
       "4                     IPA - American  "
      ]
     },
     "execution_count": 4,
     "metadata": {},
     "output_type": "execute_result"
    }
   ],
   "source": [
    "beer_info = pd.read_json('../data/beer_info.json', orient='records')\n",
    "beer_info.head()"
   ]
  },
  {
   "cell_type": "code",
   "execution_count": null,
   "metadata": {},
   "outputs": [],
   "source": []
  }
 ],
 "metadata": {
  "kernelspec": {
   "display_name": "Python 3",
   "language": "python",
   "name": "python3"
  },
  "language_info": {
   "codemirror_mode": {
    "name": "ipython",
    "version": 3
   },
   "file_extension": ".py",
   "mimetype": "text/x-python",
   "name": "python",
   "nbconvert_exporter": "python",
   "pygments_lexer": "ipython3",
   "version": "3.7.1"
  }
 },
 "nbformat": 4,
 "nbformat_minor": 2
}
