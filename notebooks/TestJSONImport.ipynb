{
 "cells": [
  {
   "cell_type": "code",
   "execution_count": 2,
   "metadata": {},
   "outputs": [],
   "source": [
    "import pandas as pd\n",
    "import os"
   ]
  },
  {
   "cell_type": "code",
   "execution_count": 2,
   "metadata": {},
   "outputs": [
    {
     "name": "stdout",
     "output_type": "stream",
     "text": [
      " Volume in drive C has no label.\n",
      " Volume Serial Number is CA8D-A166\n",
      "\n",
      " Directory of C:\\Users\\Brian\\Documents\\Python\\cicerone\\notebooks\n",
      "\n"
     ]
    },
    {
     "name": "stderr",
     "output_type": "stream",
     "text": [
      "File Not Found\n"
     ]
    }
   ],
   "source": [
    "#os.chdir('C:/Users/Brian/Documents/Python/cicerone')\n",
    "!dir('data')"
   ]
  },
  {
   "cell_type": "code",
   "execution_count": 3,
   "metadata": {},
   "outputs": [
    {
     "data": {
      "text/html": [
       "<div>\n",
       "<style scoped>\n",
       "    .dataframe tbody tr th:only-of-type {\n",
       "        vertical-align: middle;\n",
       "    }\n",
       "\n",
       "    .dataframe tbody tr th {\n",
       "        vertical-align: top;\n",
       "    }\n",
       "\n",
       "    .dataframe thead th {\n",
       "        text-align: right;\n",
       "    }\n",
       "</style>\n",
       "<table border=\"1\" class=\"dataframe\">\n",
       "  <thead>\n",
       "    <tr style=\"text-align: right;\">\n",
       "      <th></th>\n",
       "      <th>beer_id</th>\n",
       "      <th>rating</th>\n",
       "      <th>user_id</th>\n",
       "    </tr>\n",
       "  </thead>\n",
       "  <tbody>\n",
       "    <tr>\n",
       "      <th>0</th>\n",
       "      <td>4509</td>\n",
       "      <td>4.25</td>\n",
       "      <td>https://untappd.com/user/alexialeo</td>\n",
       "    </tr>\n",
       "    <tr>\n",
       "      <th>1</th>\n",
       "      <td>4509</td>\n",
       "      <td>4.25</td>\n",
       "      <td>https://untappd.com/user/Joemelton</td>\n",
       "    </tr>\n",
       "    <tr>\n",
       "      <th>2</th>\n",
       "      <td>4509</td>\n",
       "      <td>3.25</td>\n",
       "      <td>https://untappd.com/user/jivatma</td>\n",
       "    </tr>\n",
       "    <tr>\n",
       "      <th>3</th>\n",
       "      <td>4509</td>\n",
       "      <td>3.75</td>\n",
       "      <td>https://untappd.com/user/mellikgorton</td>\n",
       "    </tr>\n",
       "    <tr>\n",
       "      <th>4</th>\n",
       "      <td>4509</td>\n",
       "      <td>4.00</td>\n",
       "      <td>https://untappd.com/user/jhillman</td>\n",
       "    </tr>\n",
       "  </tbody>\n",
       "</table>\n",
       "</div>"
      ],
      "text/plain": [
       "   beer_id  rating                                user_id\n",
       "0     4509    4.25     https://untappd.com/user/alexialeo\n",
       "1     4509    4.25     https://untappd.com/user/Joemelton\n",
       "2     4509    3.25       https://untappd.com/user/jivatma\n",
       "3     4509    3.75  https://untappd.com/user/mellikgorton\n",
       "4     4509    4.00      https://untappd.com/user/jhillman"
      ]
     },
     "execution_count": 3,
     "metadata": {},
     "output_type": "execute_result"
    }
   ],
   "source": [
    "reviews = pd.read_json('../data/reviews.json', orient='records')\n",
    "reviews.head()"
   ]
  },
  {
   "cell_type": "code",
   "execution_count": 11,
   "metadata": {},
   "outputs": [
    {
     "data": {
      "text/html": [
       "<div>\n",
       "<style scoped>\n",
       "    .dataframe tbody tr th:only-of-type {\n",
       "        vertical-align: middle;\n",
       "    }\n",
       "\n",
       "    .dataframe tbody tr th {\n",
       "        vertical-align: top;\n",
       "    }\n",
       "\n",
       "    .dataframe thead th {\n",
       "        text-align: right;\n",
       "    }\n",
       "</style>\n",
       "<table border=\"1\" class=\"dataframe\">\n",
       "  <thead>\n",
       "    <tr style=\"text-align: right;\">\n",
       "      <th></th>\n",
       "      <th>abv</th>\n",
       "      <th>brewery</th>\n",
       "      <th>date</th>\n",
       "      <th>description</th>\n",
       "      <th>ibu</th>\n",
       "      <th>id</th>\n",
       "      <th>name</th>\n",
       "      <th>num ratings</th>\n",
       "      <th>rating</th>\n",
       "      <th>style</th>\n",
       "    </tr>\n",
       "  </thead>\n",
       "  <tbody>\n",
       "    <tr>\n",
       "      <th>0</th>\n",
       "      <td>18.4</td>\n",
       "      <td>Aslin Beer Company</td>\n",
       "      <td>2018-01-04</td>\n",
       "      <td>Pinkies Up is an AVIPA that is clocking in at ...</td>\n",
       "      <td>NaN</td>\n",
       "      <td>2460710</td>\n",
       "      <td>Pinkies Up</td>\n",
       "      <td>1333</td>\n",
       "      <td>4.05</td>\n",
       "      <td>IPA - Triple</td>\n",
       "    </tr>\n",
       "    <tr>\n",
       "      <th>1</th>\n",
       "      <td>8.5</td>\n",
       "      <td>Aslin Beer Company</td>\n",
       "      <td>2018-06-28</td>\n",
       "      <td>Our collaboration with Southern Grist Brewing!...</td>\n",
       "      <td>NaN</td>\n",
       "      <td>2721897</td>\n",
       "      <td>Predictable Patterns</td>\n",
       "      <td>1256</td>\n",
       "      <td>4.13</td>\n",
       "      <td>IPA - Imperial / Double</td>\n",
       "    </tr>\n",
       "    <tr>\n",
       "      <th>2</th>\n",
       "      <td>15.0</td>\n",
       "      <td>Aslin Beer Company</td>\n",
       "      <td>2018-09-07</td>\n",
       "      <td>Dreams is an Imperial stout with Almond, Cocon...</td>\n",
       "      <td>NaN</td>\n",
       "      <td>2834533</td>\n",
       "      <td>Dreams</td>\n",
       "      <td>1259</td>\n",
       "      <td>4.43</td>\n",
       "      <td>Stout - Imperial / Double</td>\n",
       "    </tr>\n",
       "    <tr>\n",
       "      <th>3</th>\n",
       "      <td>15.0</td>\n",
       "      <td>Aslin Beer Company</td>\n",
       "      <td>2016-03-05</td>\n",
       "      <td>Imperial Bisc</td>\n",
       "      <td>NaN</td>\n",
       "      <td>1454711</td>\n",
       "      <td>Buongiorno</td>\n",
       "      <td>1255</td>\n",
       "      <td>4.25</td>\n",
       "      <td>Stout - Imperial / Double</td>\n",
       "    </tr>\n",
       "    <tr>\n",
       "      <th>4</th>\n",
       "      <td>4.5</td>\n",
       "      <td>Aslin Beer Company</td>\n",
       "      <td>2017-08-16</td>\n",
       "      <td>Never A Bride is a Petite Saison fermented on ...</td>\n",
       "      <td>NaN</td>\n",
       "      <td>2245866</td>\n",
       "      <td>Never A Bride</td>\n",
       "      <td>1152</td>\n",
       "      <td>3.63</td>\n",
       "      <td>Saison / Farmhouse Ale</td>\n",
       "    </tr>\n",
       "  </tbody>\n",
       "</table>\n",
       "</div>"
      ],
      "text/plain": [
       "    abv             brewery       date  \\\n",
       "0  18.4  Aslin Beer Company 2018-01-04   \n",
       "1   8.5  Aslin Beer Company 2018-06-28   \n",
       "2  15.0  Aslin Beer Company 2018-09-07   \n",
       "3  15.0  Aslin Beer Company 2016-03-05   \n",
       "4   4.5  Aslin Beer Company 2017-08-16   \n",
       "\n",
       "                                         description  ibu       id  \\\n",
       "0  Pinkies Up is an AVIPA that is clocking in at ...  NaN  2460710   \n",
       "1  Our collaboration with Southern Grist Brewing!...  NaN  2721897   \n",
       "2  Dreams is an Imperial stout with Almond, Cocon...  NaN  2834533   \n",
       "3                                      Imperial Bisc  NaN  1454711   \n",
       "4  Never A Bride is a Petite Saison fermented on ...  NaN  2245866   \n",
       "\n",
       "                   name  num ratings  rating                      style  \n",
       "0            Pinkies Up         1333    4.05               IPA - Triple  \n",
       "1  Predictable Patterns         1256    4.13    IPA - Imperial / Double  \n",
       "2                Dreams         1259    4.43  Stout - Imperial / Double  \n",
       "3            Buongiorno         1255    4.25  Stout - Imperial / Double  \n",
       "4         Never A Bride         1152    3.63     Saison / Farmhouse Ale  "
      ]
     },
     "execution_count": 11,
     "metadata": {},
     "output_type": "execute_result"
    }
   ],
   "source": [
    "beer_info = pd.read_json('../data/test.json', orient='records')\n",
    "beer_info.head()"
   ]
  },
  {
   "cell_type": "code",
   "execution_count": 12,
   "metadata": {},
   "outputs": [
    {
     "data": {
      "text/plain": [
       "abv                   float64\n",
       "brewery                object\n",
       "date           datetime64[ns]\n",
       "description            object\n",
       "ibu                   float64\n",
       "id                      int64\n",
       "name                   object\n",
       "num ratings             int64\n",
       "rating                float64\n",
       "style                  object\n",
       "dtype: object"
      ]
     },
     "execution_count": 12,
     "metadata": {},
     "output_type": "execute_result"
    }
   ],
   "source": [
    "beer_info.dtypes"
   ]
  },
  {
   "cell_type": "code",
   "execution_count": 4,
   "metadata": {},
   "outputs": [],
   "source": [
    "import feather"
   ]
  },
  {
   "cell_type": "code",
   "execution_count": 6,
   "metadata": {},
   "outputs": [],
   "source": [
    "df = feather.read_dataframe('../data/aslin-beer-info-merged.feather')"
   ]
  },
  {
   "cell_type": "code",
   "execution_count": 7,
   "metadata": {},
   "outputs": [],
   "source": [
    "df.to_json('../data/test.json', orient='records')"
   ]
  },
  {
   "cell_type": "code",
   "execution_count": 8,
   "metadata": {},
   "outputs": [],
   "source": [
    "test = pd.read_json('../data/test.json')"
   ]
  },
  {
   "cell_type": "code",
   "execution_count": null,
   "metadata": {},
   "outputs": [],
   "source": []
  }
 ],
 "metadata": {
  "kernelspec": {
   "display_name": "Python 3",
   "language": "python",
   "name": "python3"
  },
  "language_info": {
   "codemirror_mode": {
    "name": "ipython",
    "version": 3
   },
   "file_extension": ".py",
   "mimetype": "text/x-python",
   "name": "python",
   "nbconvert_exporter": "python",
   "pygments_lexer": "ipython3",
   "version": "3.6.7"
  }
 },
 "nbformat": 4,
 "nbformat_minor": 2
}
