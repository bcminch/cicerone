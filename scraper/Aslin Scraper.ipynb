{
 "cells": [
  {
   "cell_type": "markdown",
   "metadata": {},
   "source": [
    "## Load Config Data\n",
    "\n",
    "Load in configuration data, which will dictate the behavior of the scraper.  The login information will be used to log into untappd.  The search_terms is only required if the url_file does not exist.  If it exists, the search scraping will not occur.  \n",
    "\n",
    "**Sample Config File**\n",
    "\n",
    "Open \"untappd_sample.cfg\" for a sample configuration file.  Add a username and password.  If you make a copy and name it untappd.cfg, git will ignore it and your password will not be checked in. \n"
   ]
  },
  {
   "cell_type": "code",
   "execution_count": 1,
   "metadata": {},
   "outputs": [],
   "source": [
    "import os\n",
    "import json\n",
    "\n",
    "config_path = 'untappd_AF.cfg'\n",
    "\n",
    "with open(config_path) as rdr:\n",
    "    config = json.load(rdr)"
   ]
  },
  {
   "cell_type": "markdown",
   "metadata": {},
   "source": [
    "### Create web driver using the scraper"
   ]
  },
  {
   "cell_type": "code",
   "execution_count": 2,
   "metadata": {},
   "outputs": [],
   "source": [
    "import untappd_scraper\n",
    "from untappd_scraper import ScraperType\n",
    "\n",
    "browser = untappd_scraper.create_driver(config, headless=True)"
   ]
  },
  {
   "cell_type": "markdown",
   "metadata": {},
   "source": [
    "### Identify Beer URLs to Scrape\n",
    "\n",
    "If the url_file in the config exists, we'll use that.  Otherwise we'll use the search terms to begin scraping."
   ]
  },
  {
   "cell_type": "code",
   "execution_count": null,
   "metadata": {},
   "outputs": [],
   "source": [
    "import json\n",
    "import time\n",
    "import uuid\n",
    "import feather\n",
    "\n",
    "import pandas as pd\n",
    "from glob import glob\n",
    "\n",
    "url_file = config['scraping']['url_file']\n",
    "\n",
    "urls = untappd_scraper.read_pkl(url_file)\n",
    "    \n",
    "print('URLs Found:', len(urls))\n",
    "\n",
    "## Identify all existing urls, and remove them from our url list\n",
    "df = pd.concat([feather.read_dataframe(file) for file in glob('../data/aslin-beer-info*.feather')])\n",
    "df.head()\n",
    "\n",
    "existing_ids = set([int(x) for x in df['id']])\n",
    "\n",
    "print(\"Number of URLS before filter:\", len(urls))\n",
    "urls = [url for url in urls if int(url.split('/')[-1]) not in existing_ids]\n",
    "print(\"Number of URLS after filter: \", len(urls))\n",
    "\n",
    "beer_scraper = untappd_scraper.create_scraper(ScraperType.BEER, browser)\n",
    "\n",
    "beer_results = []\n",
    "review_results = []\n",
    "\n",
    "for url in urls:\n",
    "    \n",
    "    beers, reviews = beer_scraper.scrape_beer(url)\n",
    "    beer_results.append(beers)\n",
    "    review_results.extend(reviews)\n",
    "    \n",
    "    print(f\"{len(beer_results)}) {url} found {len(reviews)} reviews\")\n",
    "    ## Every 25 beers write out the beer info and reviews\n",
    "    if len(beer_results) >= 50:\n",
    "        print(\"Clearing\")\n",
    "        file_id = str(uuid.uuid4())\n",
    "        \n",
    "        # Write beer info\n",
    "        feather.write_dataframe(untappd_scraper.create_beer_df(beer_results), f'../data/aslin-beer-info_{file_id}.feather')\n",
    "        with open(f'../data/aslin-beer-info_{file_id}.json', 'w') as wtr:\n",
    "            json.dump(beer_results, wtr)\n",
    "\n",
    "        # Write user reviews\n",
    "        feather.write_dataframe(untappd_scraper.create_reviews_df(review_results), f'../data/aslin-reviews_{file_id}.feather')\n",
    "        with open(f'../data/aslin-reviews_{file_id}.json', 'w') as wtr:\n",
    "            json.dump(review_results, wtr)\n",
    "        \n",
    "        beer_results = []\n",
    "        review_results = []\n",
    "        \n",
    "        time.sleep(60)\n",
    "    else:\n",
    "        time.sleep(10)\n",
    "        \n",
    "print(\"Finishing\")\n",
    "file_id = str(uuid.uuid4())\n",
    "\n",
    "# Write beer info\n",
    "feather.write_dataframe(untappd_scraper.create_beer_df(beer_results), f'../data/aslin-beer-info_{file_id}.feather')\n",
    "with open(f'../data/aslin-beer-info_{file_id}.json', 'w') as wtr:\n",
    "    json.dump(beer_results, wtr)\n",
    "\n",
    "# Write user reviews\n",
    "feather.write_dataframe(untappd_scraper.create_reviews_df(review_results), f'../data/aslin-reviews_{file_id}.feather')\n",
    "with open(f'../data/aslin-reviews_{file_id}.json', 'w') as wtr:\n",
    "    json.dump(review_results, wtr)\n",
    "\n",
    "beer_results = []\n",
    "review_results = []"
   ]
  },
  {
   "cell_type": "code",
   "execution_count": 12,
   "metadata": {},
   "outputs": [
    {
     "name": "stdout",
     "output_type": "stream",
     "text": [
      "Finishing\n"
     ]
    }
   ],
   "source": [
    "print(\"Finishing\")\n",
    "file_id = str(uuid.uuid4())\n",
    "\n",
    "# Write beer info\n",
    "feather.write_dataframe(untappd_scraper.create_beer_df(beer_results), f'../data/aslin-beer-info_{file_id}.feather')\n",
    "with open(f'../data/aslin-beer-info_{file_id}.json', 'w') as wtr:\n",
    "    json.dump(beer_results, wtr)\n",
    "\n",
    "# Write user reviews\n",
    "feather.write_dataframe(untappd_scraper.create_reviews_df(review_results), f'../data/aslin-reviews_{file_id}.feather')\n",
    "with open(f'../data/aslin-reviews_{file_id}.json', 'w') as wtr:\n",
    "    json.dump(review_results, wtr)\n",
    "\n",
    "beer_results = []\n",
    "review_results = []"
   ]
  },
  {
   "cell_type": "code",
   "execution_count": 34,
   "metadata": {},
   "outputs": [],
   "source": [
    "browser.quit()"
   ]
  },
  {
   "cell_type": "code",
   "execution_count": 35,
   "metadata": {},
   "outputs": [],
   "source": [
    "from glob import glob\n",
    "import json\n",
    "import feather\n",
    "import pandas as pd"
   ]
  },
  {
   "cell_type": "code",
   "execution_count": 36,
   "metadata": {},
   "outputs": [],
   "source": [
    "def deduplicate_json(pattern, file_out):\n",
    "    \n",
    "    data = []\n",
    "    files = glob(pattern)\n",
    "    for file in files:\n",
    "        with open(file) as rdr:\n",
    "            data.extend(json.load(rdr))\n",
    "    print(len(data)) \n",
    "    with open(file_out, 'w') as wtr:\n",
    "        json.dump(data, wtr)\n",
    "\n"
   ]
  },
  {
   "cell_type": "code",
   "execution_count": 37,
   "metadata": {},
   "outputs": [
    {
     "data": {
      "text/html": [
       "<div>\n",
       "<style scoped>\n",
       "    .dataframe tbody tr th:only-of-type {\n",
       "        vertical-align: middle;\n",
       "    }\n",
       "\n",
       "    .dataframe tbody tr th {\n",
       "        vertical-align: top;\n",
       "    }\n",
       "\n",
       "    .dataframe thead th {\n",
       "        text-align: right;\n",
       "    }\n",
       "</style>\n",
       "<table border=\"1\" class=\"dataframe\">\n",
       "  <thead>\n",
       "    <tr style=\"text-align: right;\">\n",
       "      <th></th>\n",
       "      <th>abv</th>\n",
       "      <th>brewery</th>\n",
       "      <th>date</th>\n",
       "      <th>description</th>\n",
       "      <th>ibu</th>\n",
       "      <th>id</th>\n",
       "      <th>name</th>\n",
       "      <th>rating</th>\n",
       "      <th>style</th>\n",
       "      <th>num ratings</th>\n",
       "    </tr>\n",
       "  </thead>\n",
       "  <tbody>\n",
       "    <tr>\n",
       "      <th>0</th>\n",
       "      <td>18.4</td>\n",
       "      <td>Aslin Beer Company</td>\n",
       "      <td>2018-01-04</td>\n",
       "      <td>Pinkies Up is an AVIPA that is clocking in at ...</td>\n",
       "      <td>NaN</td>\n",
       "      <td>2460710</td>\n",
       "      <td>Pinkies Up</td>\n",
       "      <td>4.05</td>\n",
       "      <td>IPA - Triple</td>\n",
       "      <td>1333</td>\n",
       "    </tr>\n",
       "    <tr>\n",
       "      <th>1</th>\n",
       "      <td>8.5</td>\n",
       "      <td>Aslin Beer Company</td>\n",
       "      <td>2018-06-28</td>\n",
       "      <td>Our collaboration with Southern Grist Brewing!...</td>\n",
       "      <td>NaN</td>\n",
       "      <td>2721897</td>\n",
       "      <td>Predictable Patterns</td>\n",
       "      <td>4.13</td>\n",
       "      <td>IPA - Imperial / Double</td>\n",
       "      <td>1256</td>\n",
       "    </tr>\n",
       "    <tr>\n",
       "      <th>2</th>\n",
       "      <td>15.0</td>\n",
       "      <td>Aslin Beer Company</td>\n",
       "      <td>2018-09-07</td>\n",
       "      <td>Dreams is an Imperial stout with Almond, Cocon...</td>\n",
       "      <td>NaN</td>\n",
       "      <td>2834533</td>\n",
       "      <td>Dreams</td>\n",
       "      <td>4.43</td>\n",
       "      <td>Stout - Imperial / Double</td>\n",
       "      <td>1259</td>\n",
       "    </tr>\n",
       "    <tr>\n",
       "      <th>3</th>\n",
       "      <td>15.0</td>\n",
       "      <td>Aslin Beer Company</td>\n",
       "      <td>2016-03-05</td>\n",
       "      <td>Imperial Bisc</td>\n",
       "      <td>NaN</td>\n",
       "      <td>1454711</td>\n",
       "      <td>Buongiorno</td>\n",
       "      <td>4.25</td>\n",
       "      <td>Stout - Imperial / Double</td>\n",
       "      <td>1255</td>\n",
       "    </tr>\n",
       "    <tr>\n",
       "      <th>4</th>\n",
       "      <td>4.5</td>\n",
       "      <td>Aslin Beer Company</td>\n",
       "      <td>2017-08-16</td>\n",
       "      <td>Never A Bride is a Petite Saison fermented on ...</td>\n",
       "      <td>NaN</td>\n",
       "      <td>2245866</td>\n",
       "      <td>Never A Bride</td>\n",
       "      <td>3.63</td>\n",
       "      <td>Saison / Farmhouse Ale</td>\n",
       "      <td>1152</td>\n",
       "    </tr>\n",
       "  </tbody>\n",
       "</table>\n",
       "</div>"
      ],
      "text/plain": [
       "    abv             brewery       date  \\\n",
       "0  18.4  Aslin Beer Company 2018-01-04   \n",
       "1   8.5  Aslin Beer Company 2018-06-28   \n",
       "2  15.0  Aslin Beer Company 2018-09-07   \n",
       "3  15.0  Aslin Beer Company 2016-03-05   \n",
       "4   4.5  Aslin Beer Company 2017-08-16   \n",
       "\n",
       "                                         description  ibu       id  \\\n",
       "0  Pinkies Up is an AVIPA that is clocking in at ...  NaN  2460710   \n",
       "1  Our collaboration with Southern Grist Brewing!...  NaN  2721897   \n",
       "2  Dreams is an Imperial stout with Almond, Cocon...  NaN  2834533   \n",
       "3                                      Imperial Bisc  NaN  1454711   \n",
       "4  Never A Bride is a Petite Saison fermented on ...  NaN  2245866   \n",
       "\n",
       "                   name  rating                      style  num ratings  \n",
       "0            Pinkies Up    4.05               IPA - Triple         1333  \n",
       "1  Predictable Patterns    4.13    IPA - Imperial / Double         1256  \n",
       "2                Dreams    4.43  Stout - Imperial / Double         1259  \n",
       "3            Buongiorno    4.25  Stout - Imperial / Double         1255  \n",
       "4         Never A Bride    3.63     Saison / Farmhouse Ale         1152  "
      ]
     },
     "execution_count": 37,
     "metadata": {},
     "output_type": "execute_result"
    }
   ],
   "source": [
    "pattern = '../data/aslin-beer-info*.feather'\n",
    "df = pd.concat([feather.read_dataframe(file) for file in glob(pattern)], sort=False)\n",
    "df.head()"
   ]
  },
  {
   "cell_type": "code",
   "execution_count": 38,
   "metadata": {},
   "outputs": [
    {
     "name": "stdout",
     "output_type": "stream",
     "text": [
      "261\n"
     ]
    },
    {
     "data": {
      "text/plain": [
       "261"
      ]
     },
     "execution_count": 38,
     "metadata": {},
     "output_type": "execute_result"
    }
   ],
   "source": [
    "df['rating'] = pd.to_numeric(df['rating'])\n",
    "df['id'] = pd.to_numeric(df['id'])\n",
    "\n",
    "print(len(df))\n",
    "df = df.drop_duplicates(['id', 'brewery', 'name'])\n",
    "len(df)"
   ]
  },
  {
   "cell_type": "code",
   "execution_count": 39,
   "metadata": {},
   "outputs": [],
   "source": [
    "file_out= '../data/aslin-beer-info-merged.feather'\n",
    "feather.write_dataframe(df, file_out)\n"
   ]
  },
  {
   "cell_type": "code",
   "execution_count": 40,
   "metadata": {},
   "outputs": [
    {
     "data": {
      "text/plain": [
       "abv                   float64\n",
       "brewery                object\n",
       "date           datetime64[ns]\n",
       "description            object\n",
       "ibu                   float64\n",
       "id                      int64\n",
       "name                   object\n",
       "rating                float64\n",
       "style                  object\n",
       "num ratings             int64\n",
       "dtype: object"
      ]
     },
     "execution_count": 40,
     "metadata": {},
     "output_type": "execute_result"
    }
   ],
   "source": [
    "df.dtypes"
   ]
  },
  {
   "cell_type": "code",
   "execution_count": 41,
   "metadata": {},
   "outputs": [
    {
     "name": "stdout",
     "output_type": "stream",
     "text": [
      "261\n"
     ]
    }
   ],
   "source": [
    "deduplicate_json('../data/aslin-beer-info*.json', '../data/aslin-beer-info-merged.json')"
   ]
  },
  {
   "cell_type": "code",
   "execution_count": 42,
   "metadata": {},
   "outputs": [
    {
     "name": "stdout",
     "output_type": "stream",
     "text": [
      "65345\n"
     ]
    }
   ],
   "source": [
    "deduplicate_json('../data/aslin-reviews*.json', '../data/aslin-reviews-merged.json')"
   ]
  },
  {
   "cell_type": "code",
   "execution_count": 43,
   "metadata": {},
   "outputs": [
    {
     "name": "stdout",
     "output_type": "stream",
     "text": [
      "65345\n",
      "64018\n"
     ]
    }
   ],
   "source": [
    "pattern = '../data/aslin-reviews*.feather'\n",
    "df = pd.concat([feather.read_dataframe(file) for file in glob(pattern)], sort=False)\n",
    "df.head()\n",
    "\n",
    "df['beer_id'] = pd.to_numeric(df['beer_id'])\n",
    "df['rating'] = pd.to_numeric(df['rating'])\n",
    "print(len(df))\n",
    "df = df.drop_duplicates()\n",
    "print(len(df))\n",
    "\n",
    "file_out= '../data/aslin-reviews-merged.feather'"
   ]
  },
  {
   "cell_type": "code",
   "execution_count": 44,
   "metadata": {},
   "outputs": [],
   "source": [
    "feather.write_dataframe(df, file_out)"
   ]
  },
  {
   "cell_type": "code",
   "execution_count": 45,
   "metadata": {},
   "outputs": [
    {
     "data": {
      "text/html": [
       "<div>\n",
       "<style scoped>\n",
       "    .dataframe tbody tr th:only-of-type {\n",
       "        vertical-align: middle;\n",
       "    }\n",
       "\n",
       "    .dataframe tbody tr th {\n",
       "        vertical-align: top;\n",
       "    }\n",
       "\n",
       "    .dataframe thead th {\n",
       "        text-align: right;\n",
       "    }\n",
       "</style>\n",
       "<table border=\"1\" class=\"dataframe\">\n",
       "  <thead>\n",
       "    <tr style=\"text-align: right;\">\n",
       "      <th></th>\n",
       "      <th>beer_id</th>\n",
       "      <th>comment</th>\n",
       "      <th>rating</th>\n",
       "      <th>serving</th>\n",
       "      <th>user_id</th>\n",
       "    </tr>\n",
       "  </thead>\n",
       "  <tbody>\n",
       "    <tr>\n",
       "      <th>0</th>\n",
       "      <td>2460710</td>\n",
       "      <td>None</td>\n",
       "      <td>NaN</td>\n",
       "      <td>Can</td>\n",
       "      <td>Zuber260</td>\n",
       "    </tr>\n",
       "    <tr>\n",
       "      <th>1</th>\n",
       "      <td>2460710</td>\n",
       "      <td>Just a tad old by looking at other check ins.....</td>\n",
       "      <td>NaN</td>\n",
       "      <td>Can</td>\n",
       "      <td>Mikevt89</td>\n",
       "    </tr>\n",
       "    <tr>\n",
       "      <th>2</th>\n",
       "      <td>2460710</td>\n",
       "      <td>None</td>\n",
       "      <td>350.0</td>\n",
       "      <td>None</td>\n",
       "      <td>EastCoastJamie</td>\n",
       "    </tr>\n",
       "    <tr>\n",
       "      <th>3</th>\n",
       "      <td>2460710</td>\n",
       "      <td>None</td>\n",
       "      <td>375.0</td>\n",
       "      <td>None</td>\n",
       "      <td>leaston</td>\n",
       "    </tr>\n",
       "    <tr>\n",
       "      <th>4</th>\n",
       "      <td>2460710</td>\n",
       "      <td>None</td>\n",
       "      <td>NaN</td>\n",
       "      <td>None</td>\n",
       "      <td>mat1622</td>\n",
       "    </tr>\n",
       "  </tbody>\n",
       "</table>\n",
       "</div>"
      ],
      "text/plain": [
       "   beer_id                                            comment  rating serving  \\\n",
       "0  2460710                                               None     NaN     Can   \n",
       "1  2460710  Just a tad old by looking at other check ins.....     NaN     Can   \n",
       "2  2460710                                               None   350.0    None   \n",
       "3  2460710                                               None   375.0    None   \n",
       "4  2460710                                               None     NaN    None   \n",
       "\n",
       "          user_id  \n",
       "0        Zuber260  \n",
       "1        Mikevt89  \n",
       "2  EastCoastJamie  \n",
       "3         leaston  \n",
       "4         mat1622  "
      ]
     },
     "execution_count": 45,
     "metadata": {},
     "output_type": "execute_result"
    }
   ],
   "source": [
    "df.head()"
   ]
  },
  {
   "cell_type": "code",
   "execution_count": 46,
   "metadata": {},
   "outputs": [
    {
     "data": {
      "text/plain": [
       "64018"
      ]
     },
     "execution_count": 46,
     "metadata": {},
     "output_type": "execute_result"
    }
   ],
   "source": [
    "len(df)"
   ]
  },
  {
   "cell_type": "code",
   "execution_count": 48,
   "metadata": {},
   "outputs": [],
   "source": [
    "beer_info = feather.read_dataframe('../data/aslin-beer-info-merged.feather')"
   ]
  },
  {
   "cell_type": "code",
   "execution_count": 49,
   "metadata": {},
   "outputs": [
    {
     "data": {
      "text/plain": [
       "261"
      ]
     },
     "execution_count": 49,
     "metadata": {},
     "output_type": "execute_result"
    }
   ],
   "source": [
    "len(beer_info)"
   ]
  },
  {
   "cell_type": "code",
   "execution_count": null,
   "metadata": {},
   "outputs": [],
   "source": []
  }
 ],
 "metadata": {
  "kernelspec": {
   "display_name": "Python 3",
   "language": "python",
   "name": "python3"
  },
  "language_info": {
   "codemirror_mode": {
    "name": "ipython",
    "version": 3
   },
   "file_extension": ".py",
   "mimetype": "text/x-python",
   "name": "python",
   "nbconvert_exporter": "python",
   "pygments_lexer": "ipython3",
   "version": "3.6.7"
  }
 },
 "nbformat": 4,
 "nbformat_minor": 2
}
