{
 "cells": [
  {
   "cell_type": "markdown",
   "metadata": {},
   "source": [
    "## Load Config Data\n",
    "\n",
    "Load in configuration data, which will dictate the behavior of the scraper.  The login information will be used to log into untappd.  The search_terms is only required if the url_file does not exist.  If it exists, the search scraping will not occur.  \n",
    "\n",
    "**Sample Config File**\n",
    "\n",
    "Open \"untappd_sample.cfg\" for a sample configuration file.  Add a username and password.  If you make a copy and name it untappd.cfg, git will ignore it and your password will not be checked in. \n"
   ]
  },
  {
   "cell_type": "code",
   "execution_count": null,
   "metadata": {},
   "outputs": [],
   "source": [
    "import os\n",
    "import json\n",
    "\n",
    "config_path = 'untappd.cfg'\n",
    "\n",
    "with open(config_path) as rdr:\n",
    "    config = json.load(rdr)"
   ]
  },
  {
   "cell_type": "markdown",
   "metadata": {},
   "source": [
    "### Create web driver using the scraper"
   ]
  },
  {
   "cell_type": "code",
   "execution_count": null,
   "metadata": {},
   "outputs": [],
   "source": [
    "import untappd_scraper\n",
    "from untappd_scraper import ScraperType\n",
    "\n",
    "browser = untappd_scraper.create_driver(config, headless=True)"
   ]
  },
  {
   "cell_type": "markdown",
   "metadata": {},
   "source": [
    "### Identify Beer URLs to Scrape\n",
    "\n",
    "If the url_file in the config exists, we'll use that.  Otherwise we'll use the search terms to begin scraping."
   ]
  },
  {
   "cell_type": "code",
   "execution_count": null,
   "metadata": {},
   "outputs": [],
   "source": [
    "url_file = config['scraping']['url_file']\n",
    "\n",
    "if not os.path.exists(url_file):\n",
    "    urls = []\n",
    "    \n",
    "    ## Create search term scraper\n",
    "    search_term_scraper = untappd_scraper.create_scraper(ScraperType.SEARCH, browser)\n",
    "    \n",
    "    for search_term in config['scraping']['search_terms']:\n",
    "        urls.extend(search_term_scraper.scrape_search_term(search_term))\n",
    "    \n",
    "    urls = list(set(urls))\n",
    "    untappd_scraper.write_pkl(url_file, urls)\n",
    "    \n",
    "else:\n",
    "    urls = untappd_scraper.read_pkl(url_file)\n",
    "    \n",
    "print('URLs Found:', len(urls))"
   ]
  },
  {
   "cell_type": "code",
   "execution_count": null,
   "metadata": {},
   "outputs": [],
   "source": [
    "import json\n",
    "import time\n",
    "import uuid\n",
    "import feather\n",
    "\n",
    "import pandas as pd\n",
    "from glob import glob\n",
    "\n",
    "## Identify all existing urls, and remove them from our url list\n",
    "df = pd.concat([feather.read_dataframe(file) for file in glob('../data/beer-info*.feather')])\n",
    "df.head()\n",
    "\n",
    "existing_ids = set([int(x) for x in df['id']])\n",
    "\n",
    "print(\"Number of URLS before filter:\", len(urls))\n",
    "urls = [url for url in urls if int(url.split('/')[-1]) not in existing_ids]\n",
    "print(\"Number of URLS after filter: \", len(urls))\n",
    "\n",
    "beer_scraper = untappd_scraper.create_scraper(ScraperType.BEER, browser)\n",
    "\n",
    "beer_results = []\n",
    "review_results = []\n",
    "\n",
    "for url in urls:\n",
    "    \n",
    "    beers, reviews = beer_scraper.scrape_beer(url)\n",
    "    beer_results.append(beers)\n",
    "    review_results.extend(reviews)\n",
    "    \n",
    "    print(f\"{len(beer_results)}) {url} found {len(reviews)} reviews\")\n",
    "    ## Every 25 beers write out the beer info and reviews\n",
    "    if len(beer_results) >= 50:\n",
    "        print(\"Clearing\")\n",
    "        file_id = str(uuid.uuid4())\n",
    "        \n",
    "        # Write beer info\n",
    "        feather.write_dataframe(untappd_scraper.create_beer_df(beer_results), f'../data/beer-info_{file_id}.feather')\n",
    "        with open(f'../data/beer-info_{file_id}.json', orient='records') as wtr:\n",
    "            json.dump(beer_results, wtr)\n",
    "\n",
    "        # Write user reviews\n",
    "        feather.write_dataframe(untappd_scraper.create_reviews_df(review_results), f'../data/reviews_{file_id}.feather')\n",
    "        with open(f'../data/reviews_{file_id}.json', 'w') as wtr:\n",
    "            json.dump(review_results, wtr)\n",
    "        \n",
    "        beer_results = []\n",
    "        review_results = []\n",
    "        \n",
    "        time.sleep(60)\n",
    "    else:\n",
    "        time.sleep(10)"
   ]
  },
  {
   "cell_type": "code",
   "execution_count": null,
   "metadata": {},
   "outputs": [],
   "source": [
    "browser.quit()"
   ]
  },
  {
   "cell_type": "code",
   "execution_count": 1,
   "metadata": {},
   "outputs": [],
   "source": [
    "from glob import glob\n",
    "import json\n",
    "import feather\n",
    "import pandas as pd"
   ]
  },
  {
   "cell_type": "code",
   "execution_count": 7,
   "metadata": {},
   "outputs": [],
   "source": [
    "def deduplicate_json(pattern, file_out):\n",
    "    \n",
    "    data = []\n",
    "    files = glob(pattern)\n",
    "    for file in files:\n",
    "        with open(file) as rdr:\n",
    "            data.extend(json.load(rdr))\n",
    "    print(len(data)) \n",
    "    with open(file_out, 'w') as wtr:\n",
    "        json.dump(data, wtr)\n",
    "\n"
   ]
  },
  {
   "cell_type": "code",
   "execution_count": null,
   "metadata": {},
   "outputs": [],
   "source": [
    "pattern = '../data/beer-info*.feather'\n",
    "df = pd.concat([feather.read_dataframe(file) for file in glob(pattern)], sort=False)\n",
    "df.head()"
   ]
  },
  {
   "cell_type": "code",
   "execution_count": null,
   "metadata": {},
   "outputs": [],
   "source": [
    "df['rating'] = pd.to_numeric(df['rating'])\n",
    "df['id'] = pd.to_numeric(df['id'])\n",
    "\n",
    "print(len(df))\n",
    "df.drop_duplicates(['id', 'brewery', 'name'])\n",
    "len(df)"
   ]
  },
  {
   "cell_type": "code",
   "execution_count": null,
   "metadata": {},
   "outputs": [],
   "source": [
    "file_out= '../data/beer-info-merged.feather'\n",
    "feather.write_dataframe(df, file_out)\n"
   ]
  },
  {
   "cell_type": "code",
   "execution_count": null,
   "metadata": {},
   "outputs": [],
   "source": [
    "df.dtypes"
   ]
  },
  {
   "cell_type": "code",
   "execution_count": null,
   "metadata": {},
   "outputs": [],
   "source": [
    "deduplicate_json('../data/beer-info*.json', '../data/beer-info-merged.json')"
   ]
  },
  {
   "cell_type": "code",
   "execution_count": 8,
   "metadata": {},
   "outputs": [
    {
     "name": "stdout",
     "output_type": "stream",
     "text": [
      "731276\n"
     ]
    }
   ],
   "source": [
    "deduplicate_json('../data/reviews*.json', '../data/reviews-merged.json')"
   ]
  },
  {
   "cell_type": "code",
   "execution_count": 11,
   "metadata": {},
   "outputs": [
    {
     "name": "stdout",
     "output_type": "stream",
     "text": [
      "730912\n",
      "350122\n"
     ]
    }
   ],
   "source": [
    "pattern = '../data/reviews*.feather'\n",
    "df = pd.concat([feather.read_dataframe(file) for file in glob(pattern)], sort=False)\n",
    "df.head()\n",
    "\n",
    "df['beer_id'] = pd.to_numeric(df['beer_id'])\n",
    "df['rating'] = pd.to_numeric(df['rating'])\n",
    "print(len(df))\n",
    "df = df.drop_duplicates()\n",
    "print(len(df))\n",
    "\n",
    "file_out= '../data/reviews-merged.feather'"
   ]
  },
  {
   "cell_type": "code",
   "execution_count": 12,
   "metadata": {},
   "outputs": [],
   "source": [
    "feather.write_dataframe(df, file_out)"
   ]
  },
  {
   "cell_type": "code",
   "execution_count": 13,
   "metadata": {},
   "outputs": [
    {
     "data": {
      "text/html": [
       "<div>\n",
       "<style scoped>\n",
       "    .dataframe tbody tr th:only-of-type {\n",
       "        vertical-align: middle;\n",
       "    }\n",
       "\n",
       "    .dataframe tbody tr th {\n",
       "        vertical-align: top;\n",
       "    }\n",
       "\n",
       "    .dataframe thead th {\n",
       "        text-align: right;\n",
       "    }\n",
       "</style>\n",
       "<table border=\"1\" class=\"dataframe\">\n",
       "  <thead>\n",
       "    <tr style=\"text-align: right;\">\n",
       "      <th></th>\n",
       "      <th>beer_id</th>\n",
       "      <th>comment</th>\n",
       "      <th>rating</th>\n",
       "      <th>user_id</th>\n",
       "      <th>serving</th>\n",
       "    </tr>\n",
       "  </thead>\n",
       "  <tbody>\n",
       "    <tr>\n",
       "      <th>0</th>\n",
       "      <td>1300529</td>\n",
       "      <td>None</td>\n",
       "      <td>3.75</td>\n",
       "      <td>Vasen_pakki</td>\n",
       "      <td>None</td>\n",
       "    </tr>\n",
       "    <tr>\n",
       "      <th>1</th>\n",
       "      <td>1300529</td>\n",
       "      <td>None</td>\n",
       "      <td>3.50</td>\n",
       "      <td>Dave-Hill</td>\n",
       "      <td>None</td>\n",
       "    </tr>\n",
       "    <tr>\n",
       "      <th>2</th>\n",
       "      <td>1300529</td>\n",
       "      <td>None</td>\n",
       "      <td>3.75</td>\n",
       "      <td>jsapas</td>\n",
       "      <td>None</td>\n",
       "    </tr>\n",
       "    <tr>\n",
       "      <th>3</th>\n",
       "      <td>1300529</td>\n",
       "      <td>None</td>\n",
       "      <td>3.25</td>\n",
       "      <td>vanatyhi1</td>\n",
       "      <td>None</td>\n",
       "    </tr>\n",
       "    <tr>\n",
       "      <th>4</th>\n",
       "      <td>1300529</td>\n",
       "      <td>BB 30/10/2016. Üpris kentsakas überrüübe</td>\n",
       "      <td>3.75</td>\n",
       "      <td>stennibal</td>\n",
       "      <td>None</td>\n",
       "    </tr>\n",
       "  </tbody>\n",
       "</table>\n",
       "</div>"
      ],
      "text/plain": [
       "   beer_id                                   comment  rating      user_id  \\\n",
       "0  1300529                                      None    3.75  Vasen_pakki   \n",
       "1  1300529                                      None    3.50    Dave-Hill   \n",
       "2  1300529                                      None    3.75       jsapas   \n",
       "3  1300529                                      None    3.25    vanatyhi1   \n",
       "4  1300529  BB 30/10/2016. Üpris kentsakas überrüübe    3.75    stennibal   \n",
       "\n",
       "  serving  \n",
       "0    None  \n",
       "1    None  \n",
       "2    None  \n",
       "3    None  \n",
       "4    None  "
      ]
     },
     "execution_count": 13,
     "metadata": {},
     "output_type": "execute_result"
    }
   ],
   "source": [
    "df.head()"
   ]
  },
  {
   "cell_type": "code",
   "execution_count": 14,
   "metadata": {},
   "outputs": [
    {
     "data": {
      "text/plain": [
       "350122"
      ]
     },
     "execution_count": 14,
     "metadata": {},
     "output_type": "execute_result"
    }
   ],
   "source": [
    "len(df)"
   ]
  },
  {
   "cell_type": "code",
   "execution_count": null,
   "metadata": {},
   "outputs": [],
   "source": []
  }
 ],
 "metadata": {
  "kernelspec": {
   "display_name": "Python 3",
   "language": "python",
   "name": "python3"
  },
  "language_info": {
   "codemirror_mode": {
    "name": "ipython",
    "version": 3
   },
   "file_extension": ".py",
   "mimetype": "text/x-python",
   "name": "python",
   "nbconvert_exporter": "python",
   "pygments_lexer": "ipython3",
   "version": "3.7.0"
  }
 },
 "nbformat": 4,
 "nbformat_minor": 2
}
