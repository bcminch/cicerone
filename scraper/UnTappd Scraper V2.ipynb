{
 "cells": [
  {
   "cell_type": "code",
   "execution_count": 1,
   "metadata": {},
   "outputs": [],
   "source": [
    "import json\n",
    "\n",
    "config_path = 'untappd.cfg'\n",
    "\n",
    "with open(config_path) as rdr:\n",
    "    config = json.load(rdr)"
   ]
  },
  {
   "cell_type": "code",
   "execution_count": 2,
   "metadata": {},
   "outputs": [],
   "source": [
    "import untappd_scraper\n",
    "\n",
    "browser = untappd_scraper.create_browser(config)"
   ]
  },
  {
   "cell_type": "code",
   "execution_count": 3,
   "metadata": {},
   "outputs": [
    {
     "name": "stdout",
     "output_type": "stream",
     "text": [
      "825 beers found for search IPA\n",
      "825\n"
     ]
    }
   ],
   "source": [
    "## Create search term scraper\n",
    "search_term_scraper = untappd_scraper.create_search_scraper(browser)\n",
    "\n",
    "urls = search_term_scraper.scrape_search_term('IPA')\n",
    "print(len(urls))"
   ]
  },
  {
   "cell_type": "code",
   "execution_count": 4,
   "metadata": {},
   "outputs": [],
   "source": [
    "## Create beer scraper\n",
    "beer_scraper = untappd_scraper.create_beer_scraper(browser)\n",
    "beer_info, beer_reviews = beer_scraper.scrape_beer(urls[0])"
   ]
  },
  {
   "cell_type": "code",
   "execution_count": null,
   "metadata": {},
   "outputs": [],
   "source": []
  },
  {
   "cell_type": "code",
   "execution_count": null,
   "metadata": {},
   "outputs": [],
   "source": []
  }
 ],
 "metadata": {
  "kernelspec": {
   "display_name": "Python 3",
   "language": "python",
   "name": "python3"
  },
  "language_info": {
   "codemirror_mode": {
    "name": "ipython",
    "version": 3
   },
   "file_extension": ".py",
   "mimetype": "text/x-python",
   "name": "python",
   "nbconvert_exporter": "python",
   "pygments_lexer": "ipython3",
   "version": "3.7.0"
  }
 },
 "nbformat": 4,
 "nbformat_minor": 2
}
