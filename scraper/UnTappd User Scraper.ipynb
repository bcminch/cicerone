{
 "cells": [
  {
   "cell_type": "code",
   "execution_count": null,
   "metadata": {},
   "outputs": [],
   "source": [
    "import os\n",
    "import json\n",
    "\n",
    "config_path = 'untappd.cfg'\n",
    "\n",
    "with open(config_path) as rdr:\n",
    "    config = json.load(rdr)"
   ]
  },
  {
   "cell_type": "code",
   "execution_count": null,
   "metadata": {},
   "outputs": [],
   "source": [
    "import untappd_scraper\n",
    "from untappd_scraper import ScraperType\n",
    "\n",
    "browser = untappd_scraper.create_driver(config, headless=False)"
   ]
  },
  {
   "cell_type": "code",
   "execution_count": 18,
   "metadata": {},
   "outputs": [
    {
     "name": "stdout",
     "output_type": "stream",
     "text": [
      "../data\\users_a2d4a69d-a980-408e-b668-71a008fb3bee.json\n"
     ]
    },
    {
     "data": {
      "text/plain": [
       "214732"
      ]
     },
     "execution_count": 18,
     "metadata": {},
     "output_type": "execute_result"
    }
   ],
   "source": [
    "## Identify users to scraper\n",
    "import json\n",
    "import time\n",
    "import uuid\n",
    "import feather\n",
    "\n",
    "import pandas as pd\n",
    "from glob import glob\n",
    "\n",
    "## Identify all known users, and any scraped users from the list\n",
    "reviews_df = pd.concat([feather.read_dataframe(file) for file in glob('../data/reviews*.feather')], sort=False)\n",
    "scraped_user_ids = []\n",
    "for file in glob('../data/users*.json'):\n",
    "    print(file)\n",
    "    with open(file) as rdr:\n",
    "        scraped_user_ids.extend([x['username'] for x in json.load(rdr)])\n",
    "\n",
    "users = set(reviews_df['user_id']) - set(scraped_user_ids)\n",
    "len(users)"
   ]
  },
  {
   "cell_type": "code",
   "execution_count": null,
   "metadata": {},
   "outputs": [],
   "source": [
    "import json\n",
    "import uuid\n",
    "\n",
    "users_data = []\n",
    "review_results = []\n",
    "\n",
    "user_scraper = untappd_scraper.UserScraper(browser)\n",
    "\n",
    "for user in users:\n",
    "    \n",
    "    info, reviews = user_scraper.scrape_user(user)\n",
    "    users_data.append(info)\n",
    "    review_results.extend(reviews)\n",
    "    \n",
    "    print(user, len(reviews))\n",
    "    if len(users_data) > 50:\n",
    "        file_id = str(uuid.uuid4())\n",
    "\n",
    "        # Write user reviews\n",
    "        feather.write_dataframe(untappd_scraper.create_reviews_df(review_results), f'../data/reviews_{file_id}.feather')\n",
    "        pd.DataFrame(review_results).to_json(f'../data/reviews_{file_id}.json', orient='records')\n",
    "\n",
    "        # Write user info\n",
    "        with open(f'../data/users_{file_id}.json', 'w') as wtr:\n",
    "            json.dump(users_data, wtr)\n",
    "            \n",
    "        time.sleep(60)\n",
    "    else:\n",
    "        time.sleep(10)"
   ]
  }
 ],
 "metadata": {
  "kernelspec": {
   "display_name": "Python 3",
   "language": "python",
   "name": "python3"
  },
  "language_info": {
   "codemirror_mode": {
    "name": "ipython",
    "version": 3
   },
   "file_extension": ".py",
   "mimetype": "text/x-python",
   "name": "python",
   "nbconvert_exporter": "python",
   "pygments_lexer": "ipython3",
   "version": "3.7.0"
  }
 },
 "nbformat": 4,
 "nbformat_minor": 2
}
